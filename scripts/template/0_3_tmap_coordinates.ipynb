{
 "cells": [
  {
   "cell_type": "markdown",
   "id": "1cf792e6",
   "metadata": {},
   "source": [
    "## Setup"
   ]
  },
  {
   "cell_type": "code",
   "execution_count": null,
   "id": "c2a337b8",
   "metadata": {},
   "outputs": [],
   "source": [
    "# Utils\n",
    "import os\n",
    "from dateutil.relativedelta import relativedelta\n",
    "import pickle\n",
    "\n",
    "# Data\n",
    "import numpy as np\n",
    "import pandas as pd\n",
    "\n",
    "# Viz\n",
    "import matplotlib.pyplot as plt\n",
    "import seaborn as sns\n",
    "import tmap as tm\n",
    "from faerun import Faerun\n",
    "from matplotlib.colors import ListedColormap\n",
    "from matplotlib.lines import Line2D\n",
    "import matplotlib.patches as mpatches\n",
    "\n",
    "# Cheminformatics\n",
    "from skfp.fingerprints import MHFPFingerprint\n",
    "\n",
    "from utils import load_common_config, load_pickle, save_pickle, load_tmap_coord, get_pmas_palette\n",
    "\n",
    "pmas = get_pmas_palette()\n",
    "pmas_cmap = ListedColormap(pmas)\n",
    "binary_cmap = ListedColormap(['#000000', pmas[0]])"
   ]
  },
  {
   "cell_type": "markdown",
   "id": "0a7b47d3",
   "metadata": {},
   "source": [
    "## Code"
   ]
  },
  {
   "cell_type": "markdown",
   "id": "cde67b4e",
   "metadata": {},
   "source": [
    "### Generate TMAP coordinates"
   ]
  },
  {
   "cell_type": "code",
   "execution_count": null,
   "id": "1fb54791",
   "metadata": {},
   "outputs": [],
   "source": [
    "# Determine the dataset name from the current working directory\n",
    "DATASET = os.getcwd().split('/')[-1]\n",
    "\n",
    "# Define base path for dataset\n",
    "data_path = f'../../data/{DATASET}'\n",
    "figures_path = f'../../figures/{DATASET}'\n",
    "\n",
    "# Load common config file\n",
    "config = load_common_config(f'../../data/common/datasets_config.json')\n",
    "\n",
    "INITIAL_DATE = pd.to_datetime(config[DATASET]['initial_date'])\n",
    "FINAL_DATE = pd.to_datetime(config[DATASET]['final_date'])\n",
    "TIMESTEP = config[DATASET]['timestep']\n",
    "\n",
    "# Load the main and aggregated data\n",
    "df = pd.read_csv(f'{data_path}/data_aggregated.csv').sort_values(by='DATE').reset_index(drop=True)\n",
    "df['DATE'] = pd.to_datetime(df['DATE'])\n",
    "\n",
    "df['iteration'] = 0\n",
    "\n",
    "df['iteration'] = 0\n",
    "iteration = 0\n",
    "current_date = INITIAL_DATE\n",
    "while current_date < FINAL_DATE:\n",
    "    iteration += 1\n",
    "    next_date = current_date + relativedelta(months=TIMESTEP)\n",
    "    next_smiles = df[(df['DATE'] >= current_date) & (df['DATE'] < next_date)]['SMILES'].unique()\n",
    "    df.loc[df['SMILES'].isin(next_smiles), 'iteration'] = iteration\n",
    "    current_date = next_date"
   ]
  },
  {
   "cell_type": "code",
   "execution_count": null,
   "id": "edfe332d",
   "metadata": {},
   "outputs": [],
   "source": [
    "fps = MHFPFingerprint(fp_size=2048, radius=2, isomeric_smiles=True, variant='raw_hashes').transform(df[\"SMILES\"].values)\n",
    "fingerprints = [tm.VectorUint(fp) for fp in fps]"
   ]
  },
  {
   "cell_type": "code",
   "execution_count": null,
   "metadata": {},
   "outputs": [],
   "source": [
    "fig, ax = plt.subplots(1, 1, figsize=(10, 10))\n",
    "ax.axis('off')\n",
    "\n",
    "lf = tm.LSHForest(2048, 512)\n",
    "lf.batch_add(fingerprints)\n",
    "lf.index()\n",
    "\n",
    "x, y, s, t, _ = tm.layout_from_lsh_forest(lf)\n",
    "connections = [(a, b) for a, b in zip(s, t)]\n",
    "\n",
    "sns.kdeplot(x=x, y=y, fill=False, color='black', levels=2, bw_adjust=0.1, zorder=0, alpha=0.3, gridsize=200)\n",
    "for a, b, in connections:\n",
    "    ax.plot([x[a], x[b]], [y[a], y[b]], color='black', lw=0.5, alpha=0.5, zorder=0)\n",
    "\n",
    "tmap_coordinates = {\n",
    "    'x': np.array(x),\n",
    "    'y': np.array(y),\n",
    "    's': np.array(s),\n",
    "    't': np.array(t),\n",
    "}"
   ]
  },
  {
   "cell_type": "code",
   "execution_count": null,
   "id": "c87900ce",
   "metadata": {},
   "outputs": [],
   "source": [
    "# # Uncomment to save\n",
    "# output_path = f'../../data/{DATASET}/tmap_coordinates.pkl'\n",
    "# save_pickle(tmap_coordinates, output_path)"
   ]
  },
  {
   "cell_type": "markdown",
   "id": "125418bf",
   "metadata": {},
   "source": [
    "### Generate interactive TMAP"
   ]
  },
  {
   "cell_type": "code",
   "execution_count": null,
   "id": "9776ef23",
   "metadata": {},
   "outputs": [],
   "source": [
    "x, y, s, t = load_tmap_coord(dataset=DATASET)\n",
    "connections = [(a, b) for a, b in zip(s, t)]\n",
    "\n",
    "tmap_df = pd.read_csv(f'{data_path}/data_aggregated.csv')\n",
    "tmap_df['DATE'] = pd.to_datetime(tmap_df['DATE'])\n",
    "tmap_df = tmap_df.reset_index()\n",
    "\n",
    "bp_df = pd.read_csv(f'{data_path}/blueprint.csv')\n",
    "endpoints = list(bp_df['PROPERTIES'].unique())\n",
    "\n",
    "if os.path.exists(f'{data_path}/top_molecules.pkl'):\n",
    "    # Load the definitions of good molecules and create binary columns based on this\n",
    "    top_molecules =  load_pickle(f'{data_path}/top_molecules.pkl')\n",
    "    for key in top_molecules['geometric'].keys():\n",
    "        tmp_smiles = top_molecules['geometric'][key]\n",
    "        tmap_df[key] = tmap_df['SMILES'].apply(lambda x: 1 if x in tmp_smiles else 0)\n",
    "\n",
    "    top_categories = list(top_molecules['geometric'].keys())\n",
    "else:\n",
    "    print(\"⚠️  Please run the preprocessing script ('./scripts/1_preprocessing.sh') to generate the top_molecules.pkl file and then come back to this notebook.\")"
   ]
  },
  {
   "cell_type": "code",
   "execution_count": null,
   "id": "f427e482",
   "metadata": {},
   "outputs": [],
   "source": [
    "sorted_tmap_df = tmap_df.sort_values(by='DATE', ascending=True).copy()\n",
    "\n",
    "new_index = sorted_tmap_df['index']\n",
    "mapping_dict = {}\n",
    "for i, id in enumerate(new_index):\n",
    "    mapping_dict[id] = i\n",
    "\n",
    "new_x = x[new_index]\n",
    "new_y = y[new_index]\n",
    "new_s = [mapping_dict.get(x, x) for x in s]\n",
    "new_t = [mapping_dict.get(x, x) for x in t]\n",
    "\n",
    "labels = [\n",
    "    f\"{smiles}__CPD_ID: {sorted_tmap_df['CPD_ID'].values[i]}__SERIES_ID: {sorted_tmap_df['SERIES_ID'].values[i]}__DATE: {sorted_tmap_df['DATE'].values[i]}\"\n",
    "    for i, smiles in enumerate(sorted_tmap_df['SMILES'].values)\n",
    "]\n",
    "\n",
    "series_labels = []\n",
    "for i, id in enumerate(tmap_df['SERIES_ID'].value_counts().index):\n",
    "    series_labels.append((i, id))\n",
    "\n",
    "best_labels = [(0, 'No'), (1, 'Yes')]\n",
    "\n",
    "\n",
    "sorted_tmap_df['SERIES_ID_encoded'] = sorted_tmap_df['SERIES_ID'].copy()\n",
    "for new_value, old_value in series_labels:\n",
    "    sorted_tmap_df['SERIES_ID_encoded'] = sorted_tmap_df['SERIES_ID_encoded'].replace(old_value, new_value)\n",
    "\n",
    "\n",
    "faerun = Faerun(view=\"front\", coords=False)\n",
    "faerun.add_tree(\"Assay_tree\", {\"from\": new_s, \"to\": new_t}, point_helper=\"Assay\")\n",
    "faerun.add_scatter(\n",
    "    \"Assay\",\n",
    "    {\n",
    "        \"x\": new_x,\n",
    "        \"y\": new_y,\n",
    "        \"c\": [sorted_tmap_df[x].values for x in ['SERIES_ID_encoded'] + top_categories + endpoints],\n",
    "        \"labels\": labels\n",
    "    },\n",
    "    shader=\"smoothCircle\",\n",
    "    point_scale=3,\n",
    "    max_point_size=200,\n",
    "    colormap=[pmas_cmap, 'RdYlGn'] + [binary_cmap]*len(top_categories) + ['RdYlGn']*len(endpoints),\n",
    "    has_legend=True,\n",
    "    categorical=[True, False] + [True]*len(top_categories) + [False]*len(endpoints),\n",
    "    min_legend_label=[None],\n",
    "    max_legend_label=[None],\n",
    "    series_title=['SERIES_ID', 'Documentation'] + top_categories + endpoints,\n",
    "    legend_labels=[series_labels, []] + [best_labels]*len(top_categories) + [[]]*len(endpoints),\n",
    ")\n",
    "\n",
    "faerun.plot(f\"{data_path}/tmap\", template='smiles', notebook_height=1)"
   ]
  }
 ],
 "metadata": {
  "kernelspec": {
   "display_name": "tmap",
   "language": "python",
   "name": "python3"
  },
  "language_info": {
   "codemirror_mode": {
    "name": "ipython",
    "version": 3
   },
   "file_extension": ".py",
   "mimetype": "text/x-python",
   "name": "python",
   "nbconvert_exporter": "python",
   "pygments_lexer": "ipython3",
   "version": "3.9.19"
  }
 },
 "nbformat": 4,
 "nbformat_minor": 5
}
